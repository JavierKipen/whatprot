{
 "cells": [
  {
   "cell_type": "code",
   "execution_count": 2,
   "id": "f123875a",
   "metadata": {},
   "outputs": [],
   "source": [
    "import csv\n",
    "import pandas as pd\n",
    "import copy\n",
    "import numpy as np\n",
    "from sklearn.metrics import accuracy_score"
   ]
  },
  {
   "cell_type": "markdown",
   "id": "9187f471",
   "metadata": {},
   "source": [
    "# Exploratory part"
   ]
  },
  {
   "cell_type": "code",
   "execution_count": 19,
   "id": "3a275004",
   "metadata": {},
   "outputs": [],
   "source": [
    "df_train = pd.read_csv('Dataset/radiometries_train.csv')\n",
    "n_edman=9;n_ch=3;rad_mean=10000; #Params from simulation"
   ]
  },
  {
   "cell_type": "markdown",
   "id": "cacb5c9a",
   "metadata": {},
   "source": [
    "One thing that can be explored from the data is that not all peptides seem to be present in the reads. To check that, lets analyze the true-id array:"
   ]
  },
  {
   "cell_type": "code",
   "execution_count": 4,
   "id": "58d75d06",
   "metadata": {},
   "outputs": [
    {
     "name": "stdout",
     "output_type": "stream",
     "text": [
      "True-id array max value: 566, and unique values: 206\n"
     ]
    },
    {
     "data": {
      "text/plain": [
       "<AxesSubplot:>"
      ]
     },
     "execution_count": 4,
     "metadata": {},
     "output_type": "execute_result"
    },
    {
     "data": {
      "image/png": "[encoded data removed]",
      "text/plain": [
       "<Figure size 432x288 with 1 Axes>"
      ]
     },
     "metadata": {},
     "output_type": "display_data"
    }
   ],
   "source": [
    "y_train=df_train[\"IDs\"].to_numpy();\n",
    "print(\"True-id array max value: \"+str(np.max(y_train))+\", and unique values: \"+str(len(np.unique(y_train))))\n",
    "df_train[\"IDs\"].hist(bins=np.max(y_train))"
   ]
  },
  {
   "cell_type": "markdown",
   "id": "53c9cb8e",
   "metadata": {},
   "source": [
    "We also observe a clear imbalance in the clases. This can be explained because of how the proteins are splitted, maybe some combinations are repeated more. Lets rename the IDS to make the classification between the possible values:"
   ]
  },
  {
   "cell_type": "code",
   "execution_count": 5,
   "id": "917f0660",
   "metadata": {},
   "outputs": [
    {
     "data": {
      "text/plain": [
       "<AxesSubplot:>"
      ]
     },
     "execution_count": 5,
     "metadata": {},
     "output_type": "execute_result"
    },
    {
     "data": {
      "image/png": "[encoded data removed]",
      "text/plain": [
       "<Figure size 432x288 with 1 Axes>"
      ]
     },
     "metadata": {},
     "output_type": "display_data"
    }
   ],
   "source": [
    "df_train_ynorm=df_train.copy()\n",
    "labels=np.unique(y_train)\n",
    "labels.sort()\n",
    "df_train_ynorm['IDs'] = df_train_ynorm['IDs'].apply(lambda x: np.argwhere(labels==x)[0,0])\n",
    "df_train_ynorm['IDs'].hist(bins=len(labels))"
   ]
  },
  {
   "cell_type": "code",
   "execution_count": 6,
   "id": "8e36a476",
   "metadata": {},
   "outputs": [],
   "source": [
    "y_train_norm=df_train_ynorm[\"IDs\"].to_numpy(); #Then we can obtain the prior probs given the train data.\n",
    "unique, counts = np.unique(y_train_norm, return_counts=True)\n",
    "prior_probs=counts/np.sum(counts);"
   ]
  },
  {
   "cell_type": "code",
   "execution_count": 55,
   "id": "745312d9",
   "metadata": {},
   "outputs": [
    {
     "name": "stdout",
     "output_type": "stream",
     "text": [
      "0.017686892826540464\n"
     ]
    }
   ],
   "source": [
    "# Dumb classifier\n",
    "y_pred=np.random.choice(len(labels), len(y_train_norm), p=prior_probs);\n",
    "print(accuracy_score(y_train_norm, y_pred))"
   ]
  },
  {
   "cell_type": "code",
   "execution_count": 56,
   "id": "c64dce70",
   "metadata": {},
   "outputs": [
    {
     "data": {
      "text/plain": [
       "0.0048543689320388345"
      ]
     },
     "execution_count": 56,
     "metadata": {},
     "output_type": "execute_result"
    }
   ],
   "source": [
    "1/206"
   ]
  },
  {
   "cell_type": "markdown",
   "id": "60077094",
   "metadata": {},
   "source": [
    "Given the prior probabilities, the random guessing with them is higher that without prior probs. "
   ]
  },
  {
   "cell_type": "code",
   "execution_count": 57,
   "id": "46b4f676",
   "metadata": {},
   "outputs": [],
   "source": [
    "from sklearn.neighbors import KNeighborsClassifier\n",
    "\n",
    "neigh = KNeighborsClassifier(n_neighbors=3)\n",
    "X=df_train_ynorm.drop(columns=[\"IDs\"]).to_numpy();\n",
    "neigh.fit(X, y_train_norm);"
   ]
  },
  {
   "cell_type": "code",
   "execution_count": 58,
   "id": "5ee7ce2e",
   "metadata": {},
   "outputs": [
    {
     "name": "stdout",
     "output_type": "stream",
     "text": [
      "0.6853309423006699\n"
     ]
    }
   ],
   "source": [
    "Y_pred=neigh.predict(X);\n",
    "print(accuracy_score(y_train_norm, Y_pred))"
   ]
  },
  {
   "cell_type": "markdown",
   "id": "fc9f6257",
   "metadata": {},
   "source": [
    "It takes quite a lot of time, but 68% is quite better metric than random guessing."
   ]
  },
  {
   "cell_type": "markdown",
   "id": "fac2753e",
   "metadata": {},
   "source": [
    "# Comparing on test dataset"
   ]
  },
  {
   "cell_type": "code",
   "execution_count": 7,
   "id": "8c5c3c8a",
   "metadata": {},
   "outputs": [],
   "source": [
    "df_test = pd.read_csv('Dataset/radiometries_test.csv')\n",
    "y_test=df_test[\"IDs\"].to_numpy();\n",
    "y_test_norm = [np.argwhere(labels==x)[0,0] for x in y_test]"
   ]
  },
  {
   "cell_type": "code",
   "execution_count": 8,
   "id": "7a90d913",
   "metadata": {},
   "outputs": [],
   "source": [
    "df_test_ynorm=df_test.copy()\n",
    "df_test_ynorm['IDs'] = y_test_norm"
   ]
  },
  {
   "cell_type": "code",
   "execution_count": 9,
   "id": "ff6f6827",
   "metadata": {},
   "outputs": [
    {
     "name": "stdout",
     "output_type": "stream",
     "text": [
      "0.017978988411133975\n"
     ]
    }
   ],
   "source": [
    "# Dumb classifier\n",
    "y_pred=np.random.choice(len(labels), len(y_test_norm), p=prior_probs);\n",
    "#y_pred=np.random.choice(len(label_values), len(true_labels_test));\n",
    "print(accuracy_score(y_test_norm, y_pred))"
   ]
  },
  {
   "cell_type": "markdown",
   "id": "0e713799",
   "metadata": {},
   "source": [
    "Performance decreases with the test set"
   ]
  },
  {
   "cell_type": "code",
   "execution_count": 62,
   "id": "3e9557bd",
   "metadata": {},
   "outputs": [
    {
     "name": "stdout",
     "output_type": "stream",
     "text": [
      "0.5225820426730207\n"
     ]
    }
   ],
   "source": [
    "X=df_test_ynorm.drop(columns=[\"IDs\"]).to_numpy();\n",
    "Y_pred=neigh.predict(X);\n",
    "print(accuracy_score(y_test_norm, Y_pred))"
   ]
  },
  {
   "cell_type": "markdown",
   "id": "c3b3ef50",
   "metadata": {},
   "source": [
    "Thats a much better performance!"
   ]
  },
  {
   "cell_type": "markdown",
   "id": "46650198",
   "metadata": {},
   "source": [
    "## Performance with hybrid model"
   ]
  },
  {
   "cell_type": "code",
   "execution_count": 63,
   "id": "fcfeb164",
   "metadata": {},
   "outputs": [
    {
     "name": "stdout",
     "output_type": "stream",
     "text": [
      "0.6155095851835807\n"
     ]
    }
   ],
   "source": [
    "pred_hybridHMM_test = pd.read_csv('Dataset/predictions_hybrid_test.csv')\n",
    "pred_hybridHMM_test['best_pep_iz'] = pred_hybridHMM_test['best_pep_iz'].apply(lambda x: np.argwhere(labels==x)[0,0])\n",
    "HMM_Hybrid_y_pred=pred_hybridHMM_test['best_pep_iz'].to_numpy();\n",
    "print(accuracy_score(y_test_norm, HMM_Hybrid_y_pred))"
   ]
  },
  {
   "cell_type": "markdown",
   "id": "26381beb",
   "metadata": {},
   "source": [
    "Better performance here!"
   ]
  },
  {
   "cell_type": "markdown",
   "id": "4731a478",
   "metadata": {},
   "source": [
    "# Dataframe representation modifier functions"
   ]
  },
  {
   "cell_type": "code",
   "execution_count": 11,
   "id": "ffb5d0de",
   "metadata": {},
   "outputs": [],
   "source": [
    "def discretize(df):\n",
    "    df_disc=df.copy()\n",
    "    df_disc.iloc[:,:-1]=abs(np.rint((df_disc.iloc[:,:-1].to_numpy()/mean)))\n",
    "    df_disc.iloc[:,:-1]=df_disc.iloc[:,:-1].astype(int)\n",
    "    return df_disc;\n",
    "\n",
    "def disc_diff(df_disc):\n",
    "    temp=df_disc.iloc[:,:-1].to_numpy();\n",
    "    temp_channels=np.hsplit(temp, n_ch)\n",
    "    temp_channels_diff=[np.concatenate((temp_channels[i][:,0].reshape(-1,1),np.diff(temp_channels[i],axis=1)),axis=1) for i in range(n_ch)]\n",
    "    array_train_ynorm_xint_diff=copy.deepcopy(temp_channels_diff[0]);\n",
    "    for i in range(1,n_ch):\n",
    "        array_train_ynorm_xint_diff=np.concatenate((array_train_ynorm_xint_diff,temp_channels_diff[i]),axis=1)\n",
    "    df_disc_diff=df_disc.copy()\n",
    "    df_disc_diff.iloc[:,:-1]=array_train_ynorm_xint_diff;\n",
    "    return df_disc_diff\n"
   ]
  },
  {
   "cell_type": "code",
   "execution_count": 26,
   "id": "145f1118",
   "metadata": {},
   "outputs": [],
   "source": [
    "def normalize(df):\n",
    "    df_norm=df.copy()\n",
    "    array_norm_wo_label=df_norm.iloc[:,:-1].to_numpy();\n",
    "    mean=np.mean(array_norm_wo_label);\n",
    "    std=np.std(array_norm_wo_label)\n",
    "    norm=[mean, std]\n",
    "    df_norm.iloc[:,:-1] = (df_norm.iloc[:,:-1] - mean)/std;\n",
    "    return df_norm,norm;\n",
    "def apply_norm(df, norm):\n",
    "    mean,std=norm;\n",
    "    df_norm=df.copy()\n",
    "    df_norm.iloc[:,:-1] = (df_norm.iloc[:,:-1] - mean)/std;\n",
    "    return df_norm;"
   ]
  },
  {
   "cell_type": "code",
   "execution_count": 12,
   "id": "d32da3d1",
   "metadata": {},
   "outputs": [],
   "source": [
    "df_train_ynorm_disc_diff=disc_diff(discretize(df_train_ynorm))"
   ]
  },
  {
   "cell_type": "code",
   "execution_count": 13,
   "id": "9ff7d533",
   "metadata": {},
   "outputs": [],
   "source": [
    "df_test_ynorm_disc_diff=disc_diff(discretize(df_test_ynorm))"
   ]
  },
  {
   "cell_type": "code",
   "execution_count": 27,
   "id": "2840c51a",
   "metadata": {},
   "outputs": [],
   "source": [
    "df_train_ynorm_xnorm,norm=normalize(df_train_ynorm)\n",
    "df_test_ynorm_xnorm=apply_norm(df_test_ynorm, norm)"
   ]
  },
  {
   "cell_type": "markdown",
   "id": "44859ebc",
   "metadata": {},
   "source": [
    "### Naive Bayes"
   ]
  },
  {
   "cell_type": "code",
   "execution_count": 16,
   "id": "6544bbc4",
   "metadata": {},
   "outputs": [
    {
     "name": "stdout",
     "output_type": "stream",
     "text": [
      "0.5826153606976416\n"
     ]
    }
   ],
   "source": [
    "from sklearn.naive_bayes import CategoricalNB\n",
    "clf = CategoricalNB()\n",
    "X=df_train_ynorm_disc_diff.drop(columns=[\"IDs\"]).to_numpy();\n",
    "min_val=np.min(X)\n",
    "X=X-min_val #min val is negative\n",
    "clf.fit(X, y_train_norm)\n",
    "Y_pred=clf.predict(X);\n",
    "print(accuracy_score(y_train_norm, Y_pred))"
   ]
  },
  {
   "cell_type": "code",
   "execution_count": 18,
   "id": "01b63755",
   "metadata": {},
   "outputs": [
    {
     "name": "stdout",
     "output_type": "stream",
     "text": [
      "0.5798765298386224\n"
     ]
    }
   ],
   "source": [
    "X_test=df_test_ynorm_disc_diff.drop(columns=[\"IDs\"]).to_numpy();\n",
    "X_test=X_test-min_val  #min val is negative\n",
    "X_test[X_test<0]=0;\n",
    "Y_pred=clf.predict(X_test);\n",
    "print(accuracy_score(y_test_norm, Y_pred))"
   ]
  },
  {
   "cell_type": "markdown",
   "id": "2250dfbb",
   "metadata": {},
   "source": [
    "### Neural networks"
   ]
  },
  {
   "cell_type": "code",
   "execution_count": 48,
   "id": "b2f67a07",
   "metadata": {},
   "outputs": [],
   "source": [
    "from tensorflow import keras\n",
    "from tensorflow.keras.models import Sequential, Model\n",
    "from tensorflow.keras.layers import Dense, Activation, Dropout, Flatten, Input, Embedding,BatchNormalization\n",
    "from tensorflow.keras.optimizers import Adam,SGD\n",
    "from tensorflow.keras.callbacks import EarlyStopping\n",
    "from tensorflow.keras.utils import to_categorical"
   ]
  },
  {
   "cell_type": "code",
   "execution_count": 46,
   "id": "dfe54722",
   "metadata": {},
   "outputs": [],
   "source": [
    "def gen_train_and_valid(df,val_prop=0.15):\n",
    "    X=df.drop(columns=[\"IDs\"]).to_numpy();\n",
    "    Y=df[\"IDs\"].to_numpy();\n",
    "    Y=to_categorical(Y)\n",
    "    idxs=np.arange(len(df));\n",
    "    np.random.shuffle(idxs)\n",
    "    to_valid=int(len(df)*val_prop)\n",
    "    X_valid=X[idxs[:to_valid],:];Y_valid=Y[idxs[:to_valid],:]\n",
    "    X_train=X[idxs[to_valid:],:];Y_train=Y[idxs[to_valid:],:]\n",
    "    \n",
    "    return X_train,Y_train,X_valid,Y_valid"
   ]
  },
  {
   "cell_type": "code",
   "execution_count": 49,
   "id": "cd83497a",
   "metadata": {},
   "outputs": [],
   "source": [
    "X_train,Y_train,X_valid,Y_valid=gen_train_and_valid(df_train_ynorm_xnorm)"
   ]
  },
  {
   "cell_type": "code",
   "execution_count": 57,
   "id": "7886a3e1",
   "metadata": {},
   "outputs": [],
   "source": [
    "\n"
   ]
  },
  {
   "cell_type": "code",
   "execution_count": 50,
   "id": "b6716ce3",
   "metadata": {},
   "outputs": [
    {
     "data": {
      "text/plain": [
       "(41488, 206)"
      ]
     },
     "execution_count": 50,
     "metadata": {},
     "output_type": "execute_result"
    }
   ],
   "source": [
    "np.shape(Y_valid)"
   ]
  },
  {
   "cell_type": "code",
   "execution_count": 65,
   "id": "5e4f8971",
   "metadata": {},
   "outputs": [
    {
     "name": "stdout",
     "output_type": "stream",
     "text": [
      "Epoch 1/30\n",
      "1837/1837 [==============================] - 13s 7ms/step - loss: 2.5289 - accuracy: 0.4167 - val_loss: 1.9011 - val_accuracy: 0.5260\n",
      "Epoch 2/30\n",
      "1837/1837 [==============================] - 14s 7ms/step - loss: 1.8125 - accuracy: 0.5421 - val_loss: 1.7501 - val_accuracy: 0.5526\n",
      "Epoch 3/30\n",
      "1837/1837 [==============================] - 14s 7ms/step - loss: 1.7210 - accuracy: 0.5616 - val_loss: 1.6958 - val_accuracy: 0.5690\n",
      "Epoch 4/30\n",
      "1837/1837 [==============================] - 13s 7ms/step - loss: 1.6803 - accuracy: 0.5703 - val_loss: 1.6615 - val_accuracy: 0.5708\n",
      "Epoch 5/30\n",
      "1837/1837 [==============================] - 13s 7ms/step - loss: 1.6562 - accuracy: 0.5749 - val_loss: 1.6465 - val_accuracy: 0.5782\n",
      "Epoch 6/30\n",
      "1837/1837 [==============================] - 13s 7ms/step - loss: 1.6382 - accuracy: 0.5788 - val_loss: 1.6301 - val_accuracy: 0.5808\n",
      "Epoch 7/30\n",
      "1837/1837 [==============================] - 14s 8ms/step - loss: 1.6251 - accuracy: 0.5825 - val_loss: 1.6294 - val_accuracy: 0.5786\n",
      "Epoch 8/30\n",
      "1837/1837 [==============================] - 13s 7ms/step - loss: 1.6143 - accuracy: 0.5829 - val_loss: 1.6173 - val_accuracy: 0.5850\n",
      "Epoch 9/30\n",
      "1837/1837 [==============================] - 14s 8ms/step - loss: 1.6056 - accuracy: 0.5856 - val_loss: 1.6066 - val_accuracy: 0.5872\n",
      "Epoch 10/30\n",
      "1837/1837 [==============================] - 17s 9ms/step - loss: 1.5976 - accuracy: 0.5875 - val_loss: 1.5991 - val_accuracy: 0.5873\n",
      "Epoch 11/30\n",
      "1837/1837 [==============================] - 14s 8ms/step - loss: 1.5901 - accuracy: 0.5882 - val_loss: 1.5973 - val_accuracy: 0.5883\n",
      "Epoch 12/30\n",
      "1837/1837 [==============================] - 13s 7ms/step - loss: 1.5845 - accuracy: 0.5904 - val_loss: 1.5929 - val_accuracy: 0.5860\n",
      "Epoch 13/30\n",
      "1837/1837 [==============================] - 13s 7ms/step - loss: 1.5790 - accuracy: 0.5912 - val_loss: 1.5860 - val_accuracy: 0.5910\n",
      "Epoch 14/30\n",
      "1837/1837 [==============================] - 16s 9ms/step - loss: 1.5742 - accuracy: 0.5912 - val_loss: 1.5839 - val_accuracy: 0.5877\n",
      "Epoch 15/30\n",
      "1837/1837 [==============================] - 14s 8ms/step - loss: 1.5693 - accuracy: 0.5928 - val_loss: 1.5769 - val_accuracy: 0.5928\n",
      "Epoch 16/30\n",
      "1837/1837 [==============================] - 13s 7ms/step - loss: 1.5646 - accuracy: 0.5941 - val_loss: 1.5753 - val_accuracy: 0.5910\n",
      "Epoch 17/30\n",
      "1837/1837 [==============================] - 14s 7ms/step - loss: 1.5609 - accuracy: 0.5948 - val_loss: 1.5714 - val_accuracy: 0.5920\n",
      "Epoch 18/30\n",
      "1837/1837 [==============================] - 14s 8ms/step - loss: 1.5573 - accuracy: 0.5946 - val_loss: 1.5666 - val_accuracy: 0.5927\n",
      "Epoch 19/30\n",
      "1837/1837 [==============================] - 15s 8ms/step - loss: 1.5542 - accuracy: 0.5955 - val_loss: 1.5676 - val_accuracy: 0.5935\n",
      "Epoch 20/30\n",
      "1837/1837 [==============================] - 14s 7ms/step - loss: 1.5506 - accuracy: 0.5966 - val_loss: 1.5651 - val_accuracy: 0.5913\n",
      "Epoch 21/30\n",
      "1837/1837 [==============================] - 16s 9ms/step - loss: 1.5470 - accuracy: 0.5970 - val_loss: 1.5587 - val_accuracy: 0.5950\n",
      "Epoch 22/30\n",
      "1837/1837 [==============================] - 13s 7ms/step - loss: 1.5449 - accuracy: 0.5972 - val_loss: 1.5591 - val_accuracy: 0.5942\n",
      "Epoch 23/30\n",
      "1837/1837 [==============================] - 14s 8ms/step - loss: 1.5412 - accuracy: 0.5984 - val_loss: 1.5553 - val_accuracy: 0.5954\n",
      "Epoch 24/30\n",
      "1837/1837 [==============================] - 14s 8ms/step - loss: 1.5392 - accuracy: 0.5984 - val_loss: 1.5524 - val_accuracy: 0.5972\n",
      "Epoch 25/30\n",
      "1837/1837 [==============================] - 18s 10ms/step - loss: 1.5368 - accuracy: 0.5989 - val_loss: 1.5495 - val_accuracy: 0.5979\n",
      "Epoch 26/30\n",
      "1837/1837 [==============================] - 15s 8ms/step - loss: 1.5341 - accuracy: 0.6000 - val_loss: 1.5502 - val_accuracy: 0.5972\n",
      "Epoch 27/30\n",
      "1837/1837 [==============================] - 14s 8ms/step - loss: 1.5320 - accuracy: 0.6000 - val_loss: 1.5489 - val_accuracy: 0.5974\n",
      "Epoch 28/30\n",
      "1837/1837 [==============================] - 14s 8ms/step - loss: 1.5297 - accuracy: 0.6008 - val_loss: 1.5416 - val_accuracy: 0.5990\n",
      "Epoch 29/30\n",
      "1837/1837 [==============================] - 13s 7ms/step - loss: 1.5274 - accuracy: 0.6010 - val_loss: 1.5483 - val_accuracy: 0.5979\n",
      "Epoch 30/30\n",
      "1837/1837 [==============================] - 15s 8ms/step - loss: 1.5258 - accuracy: 0.6017 - val_loss: 1.5461 - val_accuracy: 0.5976\n"
     ]
    },
    {
     "data": {
      "text/plain": [
       "30"
      ]
     },
     "execution_count": 65,
     "metadata": {},
     "output_type": "execute_result"
    }
   ],
   "source": [
    "model = Sequential()\n",
    "model.add(Dense(500, input_shape=(n_ch*(1+n_edman),), activation='relu'))\n",
    "model.add(Dense(500, activation='relu'))\n",
    "model.add(Dense(len(labels), activation='sigmoid'))\n",
    "model.compile(optimizer=Adam(learning_rate=1e-4), loss='CategoricalCrossentropy', metrics=['accuracy'])\n",
    "es = EarlyStopping(monitor='val_loss', mode='min', verbose=1, patience=3)\n",
    "history = model.fit(X_train, Y_train, validation_data=(X_valid, Y_valid), epochs=30, verbose=1, callbacks=[es],batch_size=128)\n",
    "len(history.history['loss'])  # Only 4 epochs are run."
   ]
  },
  {
   "cell_type": "code",
   "execution_count": null,
   "id": "1754d4b5",
   "metadata": {},
   "outputs": [
    {
     "name": "stdout",
     "output_type": "stream",
     "text": [
      "Epoch 1/30\n",
      "7347/7347 [==============================] - 43s 6ms/step - loss: 2.1344 - accuracy: 0.4790 - val_loss: 1.7752 - val_accuracy: 0.5367\n",
      "Epoch 2/30\n",
      "7347/7347 [==============================] - 38s 5ms/step - loss: 1.7220 - accuracy: 0.5578 - val_loss: 1.6800 - val_accuracy: 0.5693\n",
      "Epoch 3/30\n",
      "7347/7347 [==============================] - 32s 4ms/step - loss: 1.6666 - accuracy: 0.5713 - val_loss: 1.6548 - val_accuracy: 0.5702\n",
      "Epoch 4/30\n",
      "7347/7347 [==============================] - 31s 4ms/step - loss: 1.6361 - accuracy: 0.5786 - val_loss: 1.6245 - val_accuracy: 0.5775\n",
      "Epoch 5/30\n",
      "7347/7347 [==============================] - 30s 4ms/step - loss: 1.6159 - accuracy: 0.5828 - val_loss: 1.6104 - val_accuracy: 0.5833\n",
      "Epoch 6/30\n",
      "7347/7347 [==============================] - 32s 4ms/step - loss: 1.5998 - accuracy: 0.5860 - val_loss: 1.5925 - val_accuracy: 0.5878\n",
      "Epoch 7/30\n",
      "7347/7347 [==============================] - 31s 4ms/step - loss: 1.5875 - accuracy: 0.5885 - val_loss: 1.5829 - val_accuracy: 0.5887\n",
      "Epoch 8/30\n",
      "7347/7347 [==============================] - 31s 4ms/step - loss: 1.5775 - accuracy: 0.5901 - val_loss: 1.5834 - val_accuracy: 0.5903\n",
      "Epoch 9/30\n",
      "7347/7347 [==============================] - 30s 4ms/step - loss: 1.5688 - accuracy: 0.5922 - val_loss: 1.5730 - val_accuracy: 0.5902\n",
      "Epoch 10/30\n",
      "7347/7347 [==============================] - 45s 6ms/step - loss: 1.5605 - accuracy: 0.5936 - val_loss: 1.5720 - val_accuracy: 0.59265605 - accuracy\n",
      "Epoch 11/30\n",
      "7347/7347 [==============================] - 37s 5ms/step - loss: 1.5536 - accuracy: 0.5951 - val_loss: 1.5621 - val_accuracy: 0.5960\n",
      "Epoch 12/30\n",
      "7347/7347 [==============================] - 36s 5ms/step - loss: 1.5479 - accuracy: 0.5967 - val_loss: 1.5595 - val_accuracy: 0.5954\n",
      "Epoch 13/30\n",
      "7347/7347 [==============================] - 37s 5ms/step - loss: 1.5421 - accuracy: 0.5977 - val_loss: 1.5526 - val_accuracy: 0.5958\n",
      "Epoch 14/30\n",
      "7347/7347 [==============================] - 37s 5ms/step - loss: 1.5367 - accuracy: 0.5986 - val_loss: 1.5508 - val_accuracy: 0.5976\n",
      "Epoch 15/30\n",
      "7347/7347 [==============================] - 35s 5ms/step - loss: 1.5322 - accuracy: 0.6001 - val_loss: 1.5506 - val_accuracy: 0.5969\n",
      "Epoch 16/30\n",
      "7347/7347 [==============================] - 33s 5ms/step - loss: 1.5277 - accuracy: 0.6010 - val_loss: 1.5422 - val_accuracy: 0.5999\n",
      "Epoch 17/30\n",
      "7347/7347 [==============================] - 41s 6ms/step - loss: 1.5239 - accuracy: 0.6019 - val_loss: 1.5440 - val_accuracy: 0.5985\n",
      "Epoch 18/30\n",
      "7347/7347 [==============================] - 41s 6ms/step - loss: 1.5197 - accuracy: 0.6025 - val_loss: 1.5401 - val_accuracy: 0.6003\n",
      "Epoch 19/30\n",
      "7347/7347 [==============================] - 41s 6ms/step - loss: 1.5157 - accuracy: 0.6033 - val_loss: 1.5413 - val_accuracy: 0.5995\n",
      "Epoch 20/30\n",
      "7347/7347 [==============================] - 32s 4ms/step - loss: 1.5123 - accuracy: 0.6043 - val_loss: 1.5371 - val_accuracy: 0.6001\n",
      "Epoch 21/30\n",
      "7347/7347 [==============================] - 30s 4ms/step - loss: 1.5091 - accuracy: 0.6046 - val_loss: 1.5361 - val_accuracy: 0.6008\n",
      "Epoch 22/30\n",
      "7347/7347 [==============================] - 30s 4ms/step - loss: 1.5058 - accuracy: 0.6055 - val_loss: 1.5351 - val_accuracy: 0.6017\n",
      "Epoch 23/30\n",
      "7347/7347 [==============================] - 31s 4ms/step - loss: 1.5028 - accuracy: 0.6062 - val_loss: 1.5326 - val_accuracy: 0.6004\n",
      "Epoch 24/30\n",
      "7347/7347 [==============================] - 31s 4ms/step - loss: 1.5000 - accuracy: 0.6073 - val_loss: 1.5286 - val_accuracy: 0.6024\n",
      "Epoch 25/30\n",
      "7347/7347 [==============================] - 34s 5ms/step - loss: 1.4973 - accuracy: 0.6071 - val_loss: 1.5336 - val_accuracy: 0.6000\n",
      "Epoch 26/30\n",
      "7347/7347 [==============================] - 35s 5ms/step - loss: 1.4945 - accuracy: 0.6081 - val_loss: 1.5274 - val_accuracy: 0.6026\n",
      "Epoch 27/30\n",
      "7347/7347 [==============================] - 33s 5ms/step - loss: 1.4917 - accuracy: 0.6081 - val_loss: 1.5293 - val_accuracy: 0.6028\n",
      "Epoch 28/30\n",
      "7347/7347 [==============================] - 35s 5ms/step - loss: 1.4896 - accuracy: 0.6083 - val_loss: 1.5272 - val_accuracy: 0.6028\n",
      "Epoch 29/30\n",
      "7347/7347 [==============================] - 36s 5ms/step - loss: 1.4869 - accuracy: 0.6098 - val_loss: 1.5295 - val_accuracy: 0.6029\n",
      "Epoch 30/30\n",
      "5822/7347 [======================>.......] - ETA: 6s - loss: 1.4822 - accuracy: 0.6109"
     ]
    }
   ],
   "source": [
    "model = Sequential()\n",
    "model.add(Dense(500, input_shape=(n_ch*(1+n_edman),), activation='relu'))\n",
    "model.add(Dense(500, activation='relu'))\n",
    "model.add(Dense(len(labels), activation='sigmoid'))\n",
    "model.compile(optimizer=Adam(learning_rate=1e-4), loss='CategoricalCrossentropy', metrics=['accuracy'])\n",
    "es = EarlyStopping(monitor='val_loss', mode='min', verbose=1, patience=3)\n",
    "history = model.fit(X_train, Y_train, validation_data=(X_valid, Y_valid), epochs=30, verbose=1, callbacks=[es],batch_size=32)\n",
    "len(history.history['loss'])  # Only 4 epochs are run."
   ]
  },
  {
   "cell_type": "code",
   "execution_count": null,
   "id": "eed8f334",
   "metadata": {},
   "outputs": [],
   "source": [
    "# fit the keras model on the dataset\n",
    "model.fit(X, y, epochs=150, batch_size=10)\n",
    "# evaluate the keras model\n",
    "_, accuracy = model.evaluate(X, y)\n",
    "print('Accuracy: %.2f' % (accuracy*100))"
   ]
  },
  {
   "cell_type": "code",
   "execution_count": 35,
   "id": "fa203374",
   "metadata": {},
   "outputs": [
    {
     "data": {
      "text/plain": [
       "array([-0.43897619, -0.42296548, -0.4406083 , -0.42915869, -0.43217446,\n",
       "       -0.43491577, -0.43834406, -0.43590736, -0.430687  , -0.43982998,\n",
       "       -0.43707701, -0.42540508, -0.43168845, -0.42838003, -0.43203252,\n",
       "       -0.42643362, -0.42425763, -0.43581612, -0.4199039 , -0.42882996,\n",
       "        0.46412669,  0.44038812,  0.82191484, -0.42802359, -0.43797861,\n",
       "       -0.43824559, -0.44593789, -0.42367215, -0.4240252 , -0.43237804])"
      ]
     },
     "execution_count": 35,
     "metadata": {},
     "output_type": "execute_result"
    }
   ],
   "source": [
    "df_train_ynorm_xnorm.drop(columns=[\"IDs\"]).to_numpy()[1,:]"
   ]
  }
 ],
 "metadata": {
  "kernelspec": {
   "display_name": "Python 3 (Spyder)",
   "language": "python3",
   "name": "python3"
  },
  "language_info": {
   "codemirror_mode": {
    "name": "ipython",
    "version": 3
   },
   "file_extension": ".py",
   "mimetype": "text/x-python",
   "name": "python",
   "nbconvert_exporter": "python",
   "pygments_lexer": "ipython3",
   "version": "3.9.4"
  }
 },
 "nbformat": 4,
 "nbformat_minor": 5
}
