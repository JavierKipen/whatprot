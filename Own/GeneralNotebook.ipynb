{
 "cells": [
  {
   "cell_type": "code",
   "execution_count": 1,
   "id": "0d121f6b",
   "metadata": {},
   "outputs": [],
   "source": [
    "import csv\n",
    "import pandas as pd\n",
    "import copy\n",
    "import numpy as np\n",
    "from sklearn.metrics import accuracy_score"
   ]
  },
  {
   "cell_type": "markdown",
   "id": "1e7da645",
   "metadata": {},
   "source": [
    "# Exploratory part"
   ]
  },
  {
   "cell_type": "code",
   "execution_count": 2,
   "id": "2ad956bd",
   "metadata": {},
   "outputs": [],
   "source": [
    "df_rad = pd.read_csv('Dataset/radiometries_train.csv')"
   ]
  },
  {
   "cell_type": "markdown",
   "id": "13f16f45",
   "metadata": {},
   "source": [
    "One thing that can be explored from the data is that not all peptides seem to be present in the reads. To check that, lets analyze the true-id array:"
   ]
  },
  {
   "cell_type": "code",
   "execution_count": 3,
   "id": "645d80cd",
   "metadata": {},
   "outputs": [
    {
     "name": "stdout",
     "output_type": "stream",
     "text": [
      "True-id array max value: 566, and unique values: 206\n"
     ]
    },
    {
     "data": {
      "text/plain": [
       "<AxesSubplot:>"
      ]
     },
     "execution_count": 3,
     "metadata": {},
     "output_type": "execute_result"
    },
    {
     "data": {
      "image/png": "[encoded data removed]",
      "text/plain": [
       "<Figure size 432x288 with 1 Axes>"
      ]
     },
     "metadata": {},
     "output_type": "display_data"
    }
   ],
   "source": [
    "true_labels=df_rad[\"IDs\"].to_numpy();\n",
    "print(\"True-id array max value: \"+str(np.max(true_labels))+\", and unique values: \"+str(len(np.unique(true_labels))))\n",
    "df_rad[\"IDs\"].hist(bins=np.max(true_labels))"
   ]
  },
  {
   "cell_type": "markdown",
   "id": "490636b0",
   "metadata": {},
   "source": [
    "We also observe a clear imbalance in the clases. This can be explained because of how the proteins are splitted, maybe some combinations are repeated more. Lets rename the IDS to make the classification between the possible values:"
   ]
  },
  {
   "cell_type": "code",
   "execution_count": 4,
   "id": "fd2fcc2b",
   "metadata": {},
   "outputs": [
    {
     "data": {
      "text/plain": [
       "<AxesSubplot:>"
      ]
     },
     "execution_count": 4,
     "metadata": {},
     "output_type": "execute_result"
    },
    {
     "data": {
      "image/png": "[encoded data removed]",
      "text/plain": [
       "<Figure size 432x288 with 1 Axes>"
      ]
     },
     "metadata": {},
     "output_type": "display_data"
    }
   ],
   "source": [
    "df_rad_ids_ord=df_rad.copy()\n",
    "label_values=np.unique(true_labels)\n",
    "label_values.sort()\n",
    "df_rad_ids_ord['IDs'] = df_rad_ids_ord['IDs'].apply(lambda x: np.argwhere(label_values==x)[0,0])\n",
    "df_rad_ids_ord['IDs'].hist(bins=len(label_values))"
   ]
  },
  {
   "cell_type": "code",
   "execution_count": 5,
   "id": "8beab7dc",
   "metadata": {},
   "outputs": [],
   "source": [
    "true_labels_ord=df_rad_ids_ord[\"IDs\"].to_numpy(); #Then we can obtain the prior probs given the train data.\n",
    "unique, counts = np.unique(true_labels_ord, return_counts=True)\n",
    "prior_probs=counts/np.sum(counts);"
   ]
  },
  {
   "cell_type": "code",
   "execution_count": 6,
   "id": "d3fb3cd9",
   "metadata": {},
   "outputs": [
    {
     "name": "stdout",
     "output_type": "stream",
     "text": [
      "0.01735426933102907\n"
     ]
    }
   ],
   "source": [
    "# Dumb classifier\n",
    "y_pred=np.random.choice(len(label_values), len(true_labels_ord), p=prior_probs);\n",
    "print(accuracy_score(true_labels_ord, y_pred))"
   ]
  },
  {
   "cell_type": "code",
   "execution_count": 23,
   "id": "abbfe4e1",
   "metadata": {},
   "outputs": [
    {
     "data": {
      "text/plain": [
       "0.0048543689320388345"
      ]
     },
     "execution_count": 23,
     "metadata": {},
     "output_type": "execute_result"
    }
   ],
   "source": [
    "1/206"
   ]
  },
  {
   "cell_type": "markdown",
   "id": "44729d73",
   "metadata": {},
   "source": [
    "Given the prior probabilities, the random guessing with them is higher that without prior probs. "
   ]
  },
  {
   "cell_type": "code",
   "execution_count": 30,
   "id": "5e45cd93",
   "metadata": {},
   "outputs": [],
   "source": [
    "from sklearn.neighbors import KNeighborsClassifier\n",
    "\n",
    "neigh = KNeighborsClassifier(n_neighbors=3)\n",
    "X=df_rad_ids_ord.drop(columns=[\"IDs\"]).to_numpy();\n",
    "neigh.fit(X, true_labels_ord);"
   ]
  },
  {
   "cell_type": "code",
   "execution_count": 31,
   "id": "d7b44592",
   "metadata": {},
   "outputs": [
    {
     "name": "stdout",
     "output_type": "stream",
     "text": [
      "0.6853309423006699\n"
     ]
    }
   ],
   "source": [
    "Y_pred=neigh.predict(X);\n",
    "print(accuracy_score(true_labels_ord, Y_pred))"
   ]
  },
  {
   "cell_type": "markdown",
   "id": "de6538ab",
   "metadata": {},
   "source": [
    "It takes quite a lot of time, but 68% is quite better metric than random guessing."
   ]
  },
  {
   "cell_type": "markdown",
   "id": "47464924",
   "metadata": {},
   "source": [
    "# Comparing on test dataset"
   ]
  },
  {
   "cell_type": "code",
   "execution_count": 36,
   "id": "e1cec75b",
   "metadata": {},
   "outputs": [],
   "source": [
    "df_rad_test = pd.read_csv('Dataset/radiometries_test.csv')\n",
    "true_labels_test=df_rad_test[\"IDs\"].to_numpy();\n",
    "#label_values_test=np.unique(true_labels_test)\n",
    "#label_values_test.sort()\n",
    "true_labels_test_norm = [np.argwhere(label_values==x)[0,0] for x in true_labels_test]"
   ]
  },
  {
   "cell_type": "code",
   "execution_count": 15,
   "id": "1285b641",
   "metadata": {},
   "outputs": [],
   "source": [
    "df_rad_test_ids_ord=df_rad_test.copy()\n",
    "df_rad_test_ids_ord['IDs'] = df_rad_test_ids_ord['IDs'].apply(lambda x: np.argwhere(label_values==x)[0,0])"
   ]
  },
  {
   "cell_type": "code",
   "execution_count": 45,
   "id": "7f9387da",
   "metadata": {},
   "outputs": [
    {
     "name": "stdout",
     "output_type": "stream",
     "text": [
      "0.011372251705837756\n"
     ]
    }
   ],
   "source": [
    "# Dumb classifier\n",
    "y_pred=np.random.choice(len(label_values), len(true_labels_test), p=prior_probs);\n",
    "#y_pred=np.random.choice(len(label_values), len(true_labels_test));\n",
    "print(accuracy_score(true_labels_test, y_pred))"
   ]
  },
  {
   "cell_type": "markdown",
   "id": "388c1b4c",
   "metadata": {},
   "source": [
    "Performance decreases with the test set"
   ]
  },
  {
   "cell_type": "code",
   "execution_count": 46,
   "id": "82561f2c",
   "metadata": {},
   "outputs": [
    {
     "name": "stdout",
     "output_type": "stream",
     "text": [
      "0.5225820426730207\n"
     ]
    }
   ],
   "source": [
    "X=df_rad_test_ids_ord.drop(columns=[\"IDs\"]).to_numpy();\n",
    "Y_pred=neigh.predict(X);\n",
    "print(accuracy_score(true_labels_test_norm, Y_pred))"
   ]
  },
  {
   "cell_type": "markdown",
   "id": "e675c1d5",
   "metadata": {},
   "source": [
    "Thats a much better performance!"
   ]
  },
  {
   "cell_type": "markdown",
   "id": "f4cc6400",
   "metadata": {},
   "source": [
    "## Performance with hybrid model"
   ]
  },
  {
   "cell_type": "code",
   "execution_count": 49,
   "id": "58f6f2af",
   "metadata": {},
   "outputs": [
    {
     "name": "stdout",
     "output_type": "stream",
     "text": [
      "0.6155095851835807\n"
     ]
    }
   ],
   "source": [
    "pred_hybridHMM_test = pd.read_csv('Dataset/predictions_hybrid_test.csv')\n",
    "pred_hybridHMM_test['best_pep_iz'] = pred_hybridHMM_test['best_pep_iz'].apply(lambda x: np.argwhere(label_values==x)[0,0])\n",
    "HMM_Hybrid_y_pred=pred_hybridHMM_test['best_pep_iz'].to_numpy();\n",
    "print(accuracy_score(true_labels_test_norm, HMM_Hybrid_y_pred))"
   ]
  },
  {
   "cell_type": "markdown",
   "id": "4dc52a24",
   "metadata": {},
   "source": [
    "Better performance here!"
   ]
  }
 ],
 "metadata": {
  "kernelspec": {
   "display_name": "Python 3 (Spyder)",
   "language": "python3",
   "name": "python3"
  },
  "language_info": {
   "codemirror_mode": {
    "name": "ipython",
    "version": 3
   },
   "file_extension": ".py",
   "mimetype": "text/x-python",
   "name": "python",
   "nbconvert_exporter": "python",
   "pygments_lexer": "ipython3",
   "version": "3.9.4"
  }
 },
 "nbformat": 4,
 "nbformat_minor": 5
}
